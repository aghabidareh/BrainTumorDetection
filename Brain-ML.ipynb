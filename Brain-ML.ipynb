{
 "cells": [
  {
   "cell_type": "code",
   "execution_count": 26,
   "id": "851a4039-c70c-4018-a5a1-b863ffbe3623",
   "metadata": {},
   "outputs": [],
   "source": [
    "import os\n",
    "import pandas as pd\n",
    "import numpy as np\n",
    "import matplotlib.pyplot as plt\n",
    "import seaborn as sns\n",
    "\n",
    "from tensorflow import config\n",
    "config.experimental_run_functions_eagerly(True)\n",
    "\n",
    "from tensorflow.keras.preprocessing.image import load_img , ImageDataGenerator"
   ]
  },
  {
   "cell_type": "code",
   "execution_count": 27,
   "id": "3574a75a-5021-42f6-bb7f-54080464b833",
   "metadata": {},
   "outputs": [],
   "source": [
    "img_dir = 'dataset/Brain Tumor Data Set/'"
   ]
  },
  {
   "cell_type": "code",
   "execution_count": 28,
   "id": "485f8152-2fc4-4618-88da-a234dda3e27e",
   "metadata": {},
   "outputs": [],
   "source": [
    "BATCH_SIZE = 64\n",
    "IMAGE_SIZE = 150\n",
    "input_shape = (150,150,1)"
   ]
  },
  {
   "cell_type": "code",
   "execution_count": 29,
   "id": "f6a58389-751d-45d6-94ea-0af5c35cb668",
   "metadata": {},
   "outputs": [],
   "source": [
    "data_gen = ImageDataGenerator(rescale=1./255, validation_split=0.2)"
   ]
  },
  {
   "cell_type": "code",
   "execution_count": 30,
   "id": "6ac82703-736d-4b2e-8037-3ef8b6dfcd5e",
   "metadata": {},
   "outputs": [
    {
     "name": "stdout",
     "output_type": "stream",
     "text": [
      "Found 3681 images belonging to 2 classes.\n"
     ]
    }
   ],
   "source": [
    "train_gen = data_gen.flow_from_directory(img_dir,\n",
    "                                        target_size=(IMAGE_SIZE , IMAGE_SIZE),\n",
    "                                        batch_size=BATCH_SIZE,\n",
    "                                        color_mode='grayscale',\n",
    "                                        shuffle=True,\n",
    "                                        class_mode='binary',\n",
    "                                        subset='training'\n",
    "                                        )"
   ]
  },
  {
   "cell_type": "code",
   "execution_count": 31,
   "id": "11ec46c6-40ea-44aa-baa9-4a950e6bee23",
   "metadata": {},
   "outputs": [
    {
     "name": "stdout",
     "output_type": "stream",
     "text": [
      "Found 919 images belonging to 2 classes.\n"
     ]
    }
   ],
   "source": [
    "val_gen = data_gen.flow_from_directory(img_dir,\n",
    "                                        target_size=(IMAGE_SIZE , IMAGE_SIZE),\n",
    "                                        batch_size=BATCH_SIZE,\n",
    "                                        color_mode='grayscale',\n",
    "                                        shuffle=True,\n",
    "                                        class_mode='binary',\n",
    "                                        subset='validation'\n",
    "                                        )"
   ]
  },
  {
   "cell_type": "code",
   "execution_count": 32,
   "id": "f7151a11-ba67-453e-9d76-4bf6c067135b",
   "metadata": {},
   "outputs": [
    {
     "name": "stdout",
     "output_type": "stream",
     "text": [
      "['Brain Tumor', 'Healthy']\n"
     ]
    }
   ],
   "source": [
    "labels = train_gen.class_indices\n",
    "classes = list(labels.keys())\n",
    "\n",
    "print(classes)"
   ]
  },
  {
   "cell_type": "code",
   "execution_count": null,
   "id": "68818107-8d79-4898-8d79-18189838df98",
   "metadata": {},
   "outputs": [],
   "source": []
  }
 ],
 "metadata": {
  "kernelspec": {
   "display_name": "Python 3 (ipykernel)",
   "language": "python",
   "name": "python3"
  },
  "language_info": {
   "codemirror_mode": {
    "name": "ipython",
    "version": 3
   },
   "file_extension": ".py",
   "mimetype": "text/x-python",
   "name": "python",
   "nbconvert_exporter": "python",
   "pygments_lexer": "ipython3",
   "version": "3.11.4"
  }
 },
 "nbformat": 4,
 "nbformat_minor": 5
}
